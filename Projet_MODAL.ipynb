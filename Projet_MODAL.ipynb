{
  "nbformat": 4,
  "nbformat_minor": 0,
  "metadata": {
    "colab": {
      "name": "Projet_MODAL",
      "provenance": [],
      "collapsed_sections": []
    },
    "kernelspec": {
      "display_name": "Python 3",
      "name": "python3"
    },
    "language_info": {
      "name": "python"
    }
  },
  "cells": [
    {
      "cell_type": "markdown",
      "metadata": {
        "id": "tyvhL9t31stv"
      },
      "source": [
        "#Projet: Vie et mort d'une population, processus de Yule #\n",
        "\n",
        "Binôme : Xiaozhen WANG et Qinpei DU"
      ]
    },
    {
      "cell_type": "markdown",
      "metadata": {
        "id": "Q7ZYE8EnFRV6"
      },
      "source": [
        "Ce projet décrit l'évolution d'une population où chaque individu vit un temps aléatoire distribué suivant une loi exponentielle de paramètre $\\lambda$ (indépendamment des autre individus), et meurt en donnant naissance à deux individus. Donc on note que $Y_t$ le d'individus présents à l'instant $t$ et le processus $(Y_t)_{t\\geq0}$ est appelé processus de Yule de paramètre $\\lambda$. \n",
        "\n",
        "En utilisant les cinq propriétés liées au processus de Yule données dans la boîte à outil, ce projet simule certains petits événements de probabilité en utilisant des méthodes telles que le changement de probabilité, la sélection et la mutation, en utilisant ce que nous avons appris dans le cours de modalité de ce semestre et le TP.\n",
        "\n",
        "Puis, on a appliqué la théorie des processus de Yule à un espace unidimensionnel et bidimensionnel, en simulant la naissance et le développement de prédateurs et de proies, ce qui on a permis de mieux comprendre des théories telles que le processus de Poisson et la marche aléatoire.\n"
      ]
    },
    {
      "cell_type": "code",
      "metadata": {
        "id": "ymBxK69Iihe8"
      },
      "source": [
        "import numpy as np\n",
        "import matplotlib.pyplot as plt\n",
        "import scipy.stats as sps\n",
        "import seaborn as sns\n",
        "import pandas as pd"
      ],
      "execution_count": null,
      "outputs": []
    },
    {
      "cell_type": "markdown",
      "metadata": {
        "id": "VY_Irpbj35EM"
      },
      "source": [
        "## 1) Première partie ##"
      ]
    },
    {
      "cell_type": "markdown",
      "metadata": {
        "id": "D9IFCJhJHNso"
      },
      "source": [
        "### Question 1\n",
        "Simuler les valeurs de $\\mathbb{P}(Y_t>A)$ et de $\\mathbb{P}(Y_t<A)$, en particulier dans le régime des événement rares. Comparer les différents méthodes utilisées."
      ]
    },
    {
      "cell_type": "markdown",
      "metadata": {
        "id": "v8H0LvVjicQ4"
      },
      "source": [
        "Par le propriété, on peut faire la simulation de $Y_t$ qui suit une loi géométrique de paramètre $e^{-\\lambda t}$étant donné les valeurs de $\\lambda$ et $t$, i.e. $\\mathbb{P}[Y_t = k] = e^{-\\lambda t}(1-e^{-\\lambda t})^{k-1}$ pour $k \\geq 1$\n",
        "\n",
        "Donc, on sait que l'espérance de $Y_t$ est $$\\mathbb{E}[Y_t]=e^{\\lambda t}$$\n",
        "et la fonction de répartition $$\\mathbb{P}[Y_t>k]=(1-e^{-\\lambda t})^k$$\n",
        "et $$F(k) = \\mathbb{P}[Y_t \\leq k]=1-(1-e^{-\\lambda t})^k$$"
      ]
    },
    {
      "cell_type": "markdown",
      "metadata": {
        "id": "oC6wBbw6zzlu"
      },
      "source": [
        "#### La probabilité théorique\n",
        "Tout d'abord, on va déterminer la valeur initiale, par exemple, $\\lambda = 1.2, t = 6$, et $N = 10^5$. Pour calculer la valeur de $\\mathbb{P}[Y_t>A]$ et $\\mathbb{P}[Y_t<A]$"
      ]
    },
    {
      "cell_type": "code",
      "metadata": {
        "colab": {
          "base_uri": "https://localhost:8080/"
        },
        "id": "DGHIJniDimjR",
        "outputId": "40e3a1a2-9884-41ba-805b-49affc2126f6"
      },
      "source": [
        "lam = 1.2\n",
        "t = 6\n",
        "N = int(1e5)\n",
        "\n",
        "mean = np.exp(lam * t)\n",
        "print(\"L'éspérance de Y_t est \" + str(mean) )\n",
        "\n",
        "# le limit de rare événement\n",
        "A_1 = mean*10\n",
        "A_2 = 2\n",
        "p = np.exp(- lam * t)\n",
        "print('lambda = ' + str(lam))\n",
        "print(\"t = \" + str(t))\n",
        "\n",
        "## Probabilité théorique \n",
        "# La probabilité de Y_t＞k est P(Y_t＞k) = (1-np.exp(-lam*t))**k\n",
        "\n",
        "print('Probabilité théorique: \\n')\n",
        "proba_a1 = 1 - sps.geom.cdf(A_1,p)\n",
        "proba_a2 = sps.geom.cdf(A_2-1,p)\n",
        "\n",
        "print('La probabilité de Y_t > '+ str(A_1) +' est p = ' + str(proba_a1) +\"\\n\")\n",
        "print('La probabilité de Y_t < '+ str(A_2) +' est p = ' + str(proba_a2) +\"\\n\")"
      ],
      "execution_count": null,
      "outputs": [
        {
          "output_type": "stream",
          "text": [
            "L'éspérance de Y_t est 1339.4307643944169\n",
            "lambda = 1.2\n",
            "t = 6\n",
            "Probabilité théorique: \n",
            "\n",
            "La probabilité de Y_t > 13394.307643944168 est p = 4.5241080663060984e-05\n",
            "\n",
            "La probabilité de Y_t < 2 est p = 0.0007465858083766799\n",
            "\n"
          ],
          "name": "stdout"
        }
      ]
    },
    {
      "cell_type": "markdown",
      "metadata": {
        "id": "JwiOoRSuEg3w"
      },
      "source": [
        "#### Simulation par la suite de v.a. exponentielle"
      ]
    },
    {
      "cell_type": "markdown",
      "metadata": {
        "id": "eDpU3Wq4C0es"
      },
      "source": [
        "Pour leprocessus de Yule, il peut être utile de construire partant d'un individu comme suit. Soit la suite ${E_i}$ suivante la loi exponentielle de paramètre $\\lambda i$ pour tout $i \\geq 1$. Donc le processus $(Y_t)_{t\\geq0}$ défini par \n",
        "\n",
        "$$  Y_t = 1+ \\inf \\{k\\geq0: E_1+E_2+...+E_k \\geq t\\}$$\n",
        "Donc on peut faire la simulation par cette méthode."
      ]
    },
    {
      "cell_type": "code",
      "metadata": {
        "id": "Kh38ZxoxMabo"
      },
      "source": [
        "def processus(t,N):\n",
        "    list = []\n",
        "    for i in range(N):\n",
        "        sum = 0\n",
        "        k = 1\n",
        "        while sum < t:\n",
        "            sum += np.random.exponential(1./(k*lam), size = 1)\n",
        "            k = k+1\n",
        "        list.append(k+1)\n",
        "    return list"
      ],
      "execution_count": null,
      "outputs": []
    },
    {
      "cell_type": "code",
      "metadata": {
        "colab": {
          "base_uri": "https://localhost:8080/"
        },
        "id": "IPWnEs6pGEwX",
        "outputId": "a4aaf521-9688-47fe-b72b-ec197366bdb0"
      },
      "source": [
        "# Simulation de processus de Yule de lambda\n",
        "N = int(2.e4)\n",
        "mean_exp_1 = np.mean(np.array(processus(t,N)) > A_1)\n",
        "print('La probabilité de Y_t > '+ str(A_1) +' est p = ' + str(mean_exp_1) +\"\\n\")"
      ],
      "execution_count": null,
      "outputs": [
        {
          "output_type": "stream",
          "text": [
            "La probabilité de Y_t > 13394.307643944168 est p = 0.0\n",
            "\n"
          ],
          "name": "stdout"
        }
      ]
    },
    {
      "cell_type": "markdown",
      "metadata": {
        "id": "j60ICz4Iwats"
      },
      "source": [
        "#### Monte Carlo naïf\n",
        "On utilise la méthode de Monte Carlo naïve. On prend la condition que $Y_t > A_1$ et $Y_t < A_2$, puis on calcule l'espérance."
      ]
    },
    {
      "cell_type": "code",
      "metadata": {
        "colab": {
          "base_uri": "https://localhost:8080/"
        },
        "id": "if2uVMM9wUad",
        "outputId": "f830dd14-05f7-4b37-929f-ee68a7414646"
      },
      "source": [
        "## Monte Carlo Naif\n",
        "print('Estimateur Monte Carlo Naif')\n",
        "Yt = np.random.geometric(p,size = N)\n",
        "mean_mcn_a1 = np.mean(Yt > A_1)\n",
        "mean_mcn_a2 = np.mean(Yt < A_2)\n",
        "print(\"la probabilité  que Yt > \" + str(A_1) +\" estimée est \" + str(mean_mcn_a1))\n",
        "print(\"la probabilité  que Yt < \" + str(A_2) +\" estimée est \" + str(mean_mcn_a2))"
      ],
      "execution_count": null,
      "outputs": [
        {
          "output_type": "stream",
          "text": [
            "Estimateur Monte Carlo Naif\n",
            "la probabilité  que Yt > 13394.307643944168 estimée est 4e-05\n",
            "la probabilité  que Yt < 2 estimée est 0.00062\n"
          ],
          "name": "stdout"
        }
      ]
    },
    {
      "cell_type": "markdown",
      "metadata": {
        "id": "LXLQaoJiCSyg"
      },
      "source": [
        "On obtient ici un résultat inexact. Pour l'algorithme de Monte Carlo, on fait une approximation des probabilités en utilisant l'approche de la loi des grands nombres, on ne peut donc obtenir le nombre de conditions satisfaites dans $10^5$ échantillons, le résultat est une forme qui est un nombre entier fois $10^{-5}$."
      ]
    },
    {
      "cell_type": "markdown",
      "metadata": {
        "id": "iPxunOYoCW5v"
      },
      "source": [
        "#### Changement de probabilité"
      ]
    },
    {
      "cell_type": "markdown",
      "metadata": {
        "id": "8z3mOWzsBFOz"
      },
      "source": [
        "Puis, on va utiliser la méthode de changement de probabilité:\n",
        "Par l'outil de (C), à cause de la rareté de événement, on a vu que la méthode de Monte Carlos naif ne marche bien et on va utiliser la méthode de changement de probabilité. Par l'outil de (C), on sait que pour toute fonction positive $g$, on a\n",
        "$$\\mathbb{E}_{\\mathbb{P}}[g(Y_t)] = \\mathbb{E}_{\\mathbb{Q}}[g(Y_t(C+1) - C)] e^{\\lambda Ct - F(Y_t(C+1)-C-1)}$$\n",
        "où $F(n) = \\sum_{i=1} ^{n} ln(\\frac {i+C} {i} ) $. Ici，évidemment la fonction $g(Y_t) = {1}_{Y_t>A_1}$\n",
        "\n",
        "On va bien déterminer l'entier C : pour la probabilité de ${\\mathbb{P}[Y_t(C+1) - C > A ]}$, cette partie ne peut pas être très petite, donc quand $C = O(A e^{-\\lambda t})$, on obtient\n",
        "$${\\mathbb{E}[Y_t(C+1) - C] = (C+1)\\mathbb{E}[Y_t] - C = (C+1) e^{\\lambda t}- C } = O(A) $$.\n",
        "\n",
        "Ensuite, on crée les fonctions $F(n)$ et $L_t$."
      ]
    },
    {
      "cell_type": "code",
      "metadata": {
        "id": "CglpdFJYwO65"
      },
      "source": [
        "# la fonction de F(n)\n",
        "def F(n,C):    \n",
        "    return np.sum(np.log(np.arange(C+1,C+n+1)/np.arange(1,n+1))) \n",
        "\n",
        "# La fonction de Lt\n",
        "def L(t,lam,C,Yt):\n",
        "    return np.exp(F(Yt-1,C)-lam*C*t)\n"
      ],
      "execution_count": null,
      "outputs": []
    },
    {
      "cell_type": "code",
      "metadata": {
        "id": "onkV_psLkH6c",
        "colab": {
          "base_uri": "https://localhost:8080/"
        },
        "outputId": "f387d51c-28c2-44f9-b2c9-42e96851fac9"
      },
      "source": [
        "## Changement de probabilité\n",
        "N = int(1e4)\n",
        "\n",
        "A_1 = mean*10\n",
        "p = np.exp(-lam*t)\n",
        "C = A_1*p\n",
        "\n",
        "# on cree deux arrays pour stocker les valeur de g(Yt)/Lt\n",
        "E = []   \n",
        "\n",
        "Yt = np.random.geometric(p,size = N*int(C+1))\n",
        "Yt = np.sum(Yt.reshape(N,int(C+1)),axis=1)\n",
        "\n",
        "for yt in Yt:\n",
        "    g1 = yt - C > A_1\n",
        "    E.append(g1/L(t,lam,C,yt-C-1) )\n",
        "\n",
        "mean_cp_1 = np.mean(E)\n",
        "print('La probabilité théorique de Y_t> est p = ', sps.geom.sf(A_1,p) )\n",
        "print('La probabilité de Y_t > '+ str(A_1) +' est p = ' + str(mean_cp_1) +\"\\n\")"
      ],
      "execution_count": null,
      "outputs": [
        {
          "output_type": "stream",
          "text": [
            "La probabilité théorique de Y_t> est p =  4.524108066304606e-05\n",
            "La probabilité de Y_t > 13394.307643944168 est p = 4.0060269434118746e-05\n",
            "\n"
          ],
          "name": "stdout"
        }
      ]
    },
    {
      "cell_type": "markdown",
      "metadata": {
        "id": "z2SzzysnCmXQ"
      },
      "source": [
        "La performance est bonne et approche."
      ]
    },
    {
      "cell_type": "markdown",
      "metadata": {
        "id": "DzzhmiAjC_mX"
      },
      "source": [
        "#### Sélection et mutation"
      ]
    },
    {
      "cell_type": "markdown",
      "metadata": {
        "id": "brURMqEGDEGy"
      },
      "source": [
        "Après la méthode de changement de probabilité, quand on bien choisit le $c$, on sait que cette méthode convient seulement aux événements comme $\\mathbb{P}(Y_t>A)$ et ne peut pas utiliser pour le calcul de $\\mathbb{P}(Y_t<A)$. Donc, comme le TP5, on stimule $\\mathbb{P}(Y_t<A)$ par la méthode de sélection et mutation, dans laquelle on choisit la fonction de sélection en favorisant les trajectoires avec petite valeur, i.e, $G_p(X_{0:p})=e^{-\\lambda X_p}$. \n",
        "\n",
        "Et comme $Y_t$ est à temps continu, on divise $[0,t]$ de manière géométrique, c'est-à-dire que l'on définit $X_p$ comme $Y_{(1-2^{-p})t}$ pour correspondre à $Y_t$ croissement exponentiel. "
      ]
    },
    {
      "cell_type": "code",
      "metadata": {
        "id": "0MLk0zBsKj2n",
        "colab": {
          "base_uri": "https://localhost:8080/"
        },
        "outputId": "3fe5855f-4a49-487c-b905-549c12c472a0"
      },
      "source": [
        "A_2 = 2\n",
        "N = int(1e4)\n",
        "\n",
        "print(\"Lorsque A_2=%d, lambda=%.1f, t=%d :\"%(A_2,lam,t))\n",
        "\n",
        "step = 20\n",
        "\n",
        "T = np.power(2.,-np.arange(1,step+1))*t\n",
        "X = np.transpose(np.array([[1]*N,sps.geom.rvs(np.exp(-lam*T[0]), size=N)]))\n",
        "la = -A_2/(step*1000)\n",
        "eta = 1\n",
        "\n",
        "for p in range(1,step):\n",
        "\n",
        "    G=np.exp((X[:,1]-X[:,0])*la)\n",
        "    I=np.random.choice(np.arange(0,N),size=N,p=G/np.sum(G))\n",
        "    eta*=np.mean(G)\n",
        "    X[:,0]=X[I,1]\n",
        "    X[:,1]=sps.nbinom.rvs(X[:,0],np.exp(-lam*T[p]),size=N)+X[:,0]\n",
        "    \n",
        "f_1=np.mean((X[:,1]<A_2)/np.exp(la*X[:,0]))\n",
        "\n",
        "print(\"La probabilité theorique de Y_t<A est : \", sps.geom.cdf(A_2,np.exp(-lam*t)))\n",
        "print(\"La probabiltié stimulée de Y_t<A est : \", f_1*eta)"
      ],
      "execution_count": null,
      "outputs": [
        {
          "output_type": "stream",
          "text": [
            "Lorsque A_2=2, lambda=1.2, t=6 :\n",
            "La probabilité theorique de Y_t<A est :  0.0014926142263840903\n",
            "La probabiltié stimulée de Y_t<A est :  0.0002648485001858197\n"
          ],
          "name": "stdout"
        }
      ]
    },
    {
      "cell_type": "markdown",
      "metadata": {
        "id": "XTZsxf30DHty"
      },
      "source": [
        "La performance est pas mal: lorsque $\\lambda = 1.2, t = 6,A_2 = 3$ et $N = 10^4$, en comparant avec la valeur théorique de $\\mathbb{P}[Y_t \\leq 2] = 1.4926\\times 10^{-3}$, on obtient le résultat $\\mathbb{P}[Y_t \\leq 2] = 1.6035\\times 10^{-3}$"
      ]
    },
    {
      "cell_type": "markdown",
      "metadata": {
        "id": "MK_VCOxiQ6S6"
      },
      "source": [
        "## Question 2 \n",
        "Illustrer la convergence du point (D) par des simulations. Étudier par des simulations l'influence de la valeur terminale $\\epsilon$ sur la loi de $Y_t$, en particulier dans le régime des événements rares."
      ]
    },
    {
      "cell_type": "markdown",
      "metadata": {
        "id": "thUHdQF8DSG-"
      },
      "source": [
        "#### La convergence de $\\epsilon$"
      ]
    },
    {
      "cell_type": "markdown",
      "metadata": {
        "id": "tfkHTZPsrYCl"
      },
      "source": [
        "On peut commencer la convergence par la theorie\n",
        "$$\\mathbb{P}[Y_t \\leq k] = e^{-\\lambda t} \\sum _{i=1} ^{k} (1-e^{-\\lambda t})^{i-1} = 1 - (1-e^{- \\lambda t})^k$$\n",
        "\n",
        "Donc pour la probabilité de $Y_t \\cdot e^{-\\lambda t} = \\epsilon$, on calcule\n",
        "\n",
        "$$\\mathbb{P}[\\epsilon \\leq m] = \\mathbb{P}[Y_t \\leq m \\cdot e^{\\lambda t}] = 1 - (1-e^{- \\lambda t})^{m \\cdot e^{\\lambda t}}$$\n",
        "\n",
        "Soit $x = (1-e^{- \\lambda t})^{m \\cdot e^{\\lambda t}}$, utilisant La logarithme, on a $\\ln x = m \\cdot e^{\\lambda t} \\cdot \\ln(1-e^{\\lambda t})$. \n",
        "\n",
        "Lorsque t tend vers $+\\infty$ et $\\lambda$ fixé, on sait que $e^{\\lambda t}\\rightarrow 0$, donc $\\ln(1-e^{\\lambda t}) \\approx -e^{\\lambda t} $. Ici on a $\\ln x = -m$, i.e. $x = -e^{m}$.\n",
        "\n",
        "Donc on obtient la probabilité derépartition, \n",
        "\n",
        "$$F[\\epsilon = m] = \\mathbb{P}[\\epsilon \\leq m] = 1-e^{-m} $$\n",
        "\n",
        "On se trouve que $\\epsilon$ suit une loi exponentielle de paramètre 1.\n",
        "\n",
        "Ensuite, on faite la simulation par le code.\n"
      ]
    },
    {
      "cell_type": "code",
      "metadata": {
        "colab": {
          "base_uri": "https://localhost:8080/",
          "height": 283
        },
        "id": "9OUuCoD9xkhL",
        "outputId": "7b69a4ee-9049-465a-a22f-ff6823fa8c07"
      },
      "source": [
        "N = int(1e6)\n",
        "# la loi de exponentielle 1\n",
        "p = np.exp(-lam*t)\n",
        "Yt = np.random.geometric(p,size = N)\n",
        "Eps = Yt * np.exp(-lam*t)\n",
        "\n",
        "# la densitte de exponentielle 1\n",
        "x = np.linspace(0., np.max(Eps), 200)\n",
        "f_x = np.exp(-x)\n",
        "plt.plot(x, f_x, color=\"r\", label=\"densite\", linewidth=2.0)\n",
        "\n",
        "\n",
        "n_colonnes = 2 * int(len(Eps)** (1./3))\n",
        "plt.hist(Eps, density=True, bins=n_colonnes, color=\"b\", label=\"simulation\")\n",
        "plt.title(\"La simulation sur le $\\epsilon$ et la loi exponentielle de 1\", fontsize=13)\n",
        "plt.legend()\n",
        "plt.show()\n"
      ],
      "execution_count": null,
      "outputs": [
        {
          "output_type": "display_data",
          "data": {
            "image/png": "[encoded data removed]",
            "text/plain": [
              "<Figure size 432x288 with 1 Axes>"
            ]
          },
          "metadata": {
            "tags": [],
            "needs_background": "light"
          }
        }
      ]
    },
    {
      "cell_type": "markdown",
      "metadata": {
        "id": "6js8NgXVDmkq"
      },
      "source": [
        "Ici, On a obtenu le résultat de convergence. "
      ]
    },
    {
      "cell_type": "markdown",
      "metadata": {
        "id": "PJgSfB6NDrsT"
      },
      "source": [
        "#### L'influence de $\\epsilon$ dans différents values terminales"
      ]
    },
    {
      "cell_type": "markdown",
      "metadata": {
        "id": "XqrQlnbUtLtH"
      },
      "source": [
        "On choisit différents paramètres $\\epsilon$. Puisque $\\epsilon = 1$ est la valeur moyenne, on trouve des valeurs appropriées pour les côtés gauche et droit de 1, comme $0,1$ et $10$, respectivement, afin d'obtenir trois courbes pour la comparaison. Dans la simulation du processus Yule, on va utiliser la méthode de boîte à outil (E): pour simuler un processus de Yule ayant une valeur terminale fixée, soit $\\epsilon $ une variable aléatoire exponentielle de paramètre 1 et soit $(P_t)_{t\\geq 0}$ un processus de Poisson indépendant homogène de paramètre 1, on a le processus de Yule $Y_t$ défini par $Y_t = 1+ P_{\\epsilon (e^{\\lambda t}-1)}$ qui est paramètre $\\lambda$ et valeur terminale $\\epsilon$. Donc comme TP4, on peut obtenir les courbe de nombre de YUle avec les différents $\\epsilon$.\n",
        "\n",
        "Ensuite, on va fixer les différents $\\epsilon$ et voir les processus de Yule dans différents values terminales."
      ]
    },
    {
      "cell_type": "code",
      "metadata": {
        "id": "QjTZjUxj4Tov",
        "colab": {
          "base_uri": "https://localhost:8080/",
          "height": 282
        },
        "outputId": "77ff5e59-4d46-4874-93de-6392414bc44d"
      },
      "source": [
        "# Les différents Epsilon\n",
        "Eps1 = 0.1\n",
        "Eps2 = 1\n",
        "Eps3 = 10\n",
        "# on choisit les paramètres de lambda et t\n",
        "lam = 3\n",
        "t = 3\n",
        "# le temps de processus de Poisson\n",
        "T1 = Eps1 * (np.exp(lam*t) - 1)\n",
        "T2 = Eps2 * (np.exp(lam*t) - 1)\n",
        "T3 = Eps3 * (np.exp(lam*t) - 1)\n",
        "\n",
        "# Cas de epsilon = 1 et simulation jusqu'a T1\n",
        "N1 = np.random.poisson(T1 * lam) +1\n",
        "E_1 = T1 * np.random.rand(N1+1)\n",
        "E_1[0] = 0\n",
        "E_1.sort()\n",
        "E_1 = np.append(E_1, T1)\n",
        "t_1 = np.log((E_1/Eps1)+1) * (1/lam)\n",
        "\n",
        "x_1 = np.arange(N1+1)\n",
        "x_1 = np.append(x_1,N1)\n",
        "plt.step(t_1, x_1, label=\" epsilon = 0.1\", linewidth=1.0)\n",
        "\n",
        "# Cas de epsilon = 3 et simulation jusqu'a T2\n",
        "N2 = np.random.poisson(T2 * lam) +1\n",
        "E_2 = T2 * np.random.rand(N2+1)\n",
        "E_2[0] = 0\n",
        "E_2.sort()\n",
        "E_2 = np.append(E_2, T2)\n",
        "t_2 = np.log((E_2/Eps2)+1) * (1/lam)\n",
        "\n",
        "x_2 = np.arange(N2+1)\n",
        "x_2 = np.append(x_2,N2)\n",
        "plt.step(t_2, x_2, label= \" epsilon = 1\", linewidth=1.0)\n",
        "\n",
        "# Cas de epsilon = 10 et simulation jusqu'a T3\n",
        "N3 = np.random.poisson(T3 * lam) +1\n",
        "E_3 = T3 * np.random.rand(N3+1)\n",
        "E_3[0] = 0\n",
        "E_3.sort()\n",
        "E_3 = np.append(E_3, T3)\n",
        "t_3 = np.log((E_3/Eps3)+1) * (1/lam)\n",
        "\n",
        "x_3 = np.arange(N3+1)\n",
        "x_3 = np.append(x_3,N3)\n",
        "plt.step(t_3, x_3, label=\"epsilon = 10\", linewidth=1.0)\n",
        "\n",
        "plt.title(\"Processus de Yule de paramètre $\\lambda$ = \"+ str(lam), fontsize=10)\n",
        "plt.ylabel('le nombre')\n",
        "plt.xlabel('Le temps t')\n",
        "plt.legend()\n",
        "plt.show()\n"
      ],
      "execution_count": null,
      "outputs": [
        {
          "output_type": "display_data",
          "data": {
            "image/png": "[encoded data removed]",
            "text/plain": [
              "<Figure size 432x288 with 1 Axes>"
            ]
          },
          "metadata": {
            "tags": [],
            "needs_background": "light"
          }
        }
      ]
    },
    {
      "cell_type": "markdown",
      "metadata": {
        "id": "_FUZ9pPRtJmc"
      },
      "source": [
        "Par le graph de résultat, quand $\\epsilon$ est plus grande, le processus de Yule va atteindre le nombre plus grand."
      ]
    },
    {
      "cell_type": "markdown",
      "metadata": {
        "id": "aLhn0hFoDxg_"
      },
      "source": [
        "Maintenant on refait l'initialisation, on va rechercher l'effet de changement $\\lambda$, par le deux images suivantes, on voir que quand $\\lambda$ est plus grand, le nombre est plus grand. Après LE changement de $\\lambda$ , on va rechercher l'effet de changement $t]$. Aussi par le deux images suivantes, on voir que quand le temps $t$ est plus grand, le nombre est plus grand. Cette partie est expliqué par les images contraste dans le rapport par changement de paramètre."
      ]
    },
    {
      "cell_type": "markdown",
      "metadata": {
        "id": "8ymVbMPhmtHP"
      },
      "source": [
        "## 2)Deuxième partie \n",
        "###Question 3 \n",
        "  \n",
        "#### Simulation de $p(\\lambda)$\n",
        "Tracer numériquement le graphe de $\\lambda \\mapsto p(\\lambda)$ pour $\\lambda > 1$, et étudier numériquement si la fonction $p$ est dérivable à droite en 1. Lorsque $\\lambda > 1$, on pourra admettre qu'on peut approximer l'événement < les proies ne disparaissent pas > par l'événement < il y a au moins $k$ proies à un moment donné > quitte à faire une erreur de $\\frac{\\lambda -1}{\\lambda^{k+1} - 1}$ sur $p(\\lambda)$."
      ]
    },
    {
      "cell_type": "markdown",
      "metadata": {
        "id": "--GDdnq3--78"
      },
      "source": [
        "Soit $S_n$ le nombre de proies après $n$ naissances. On peut montrer que ($S_n: n \\geq 0$) est une marche aléatoire.\n",
        "Soit encore $X_1$ et $X_2$ suivent respectivement une loi exponentielle de paramètre $\\lambda$ et $1$.\n",
        "\n",
        "Si $S_{n+1} - S_n$ = 1, c'est-à-dire que une proie donne naissance à une nouvelle proie avant que un prédateur donne naissance à un nouvel prédateur. Dans ce cas, $$\\mathbb{P}[S_{n+1} - S_n = 1] = \\mathbb{P}[X_2 > X_1] = \\iint_{x_2 > x_1} \\lambda e^{- \\lambda x - y} dxdy = \\frac {\\lambda}{1+\\lambda}  $$\n",
        "\n",
        "Dans le cas contraire, $$\\mathbb{P}[S_{n+1} - S_n = -1] = \\mathbb{P}[X_2 < X_1] = \\frac {1}{1+\\lambda}  $$\n",
        "\n"
      ]
    },
    {
      "cell_type": "markdown",
      "metadata": {
        "id": "KrgZV9pq4a1V"
      },
      "source": [
        "D'abord on calcule la probabilité théorique que les proies survivent. Ici, on suppose que la situation de disparition est l'événement A. Donc par la formule bayesienne, \n",
        "$$\\mathbb{P}(A) = \\mathbb{P}(A|S_1=0)\\cdot\\mathbb{P}(S_1=0)+\\mathbb{P}(A|S_1=2)\\cdot\\mathbb{P}(S_1=2) = \\frac{1}{1+\\lambda}+ \\mathbb{P}(A)^2 \\cdot \\frac{\\lambda}{1+\\lambda}  $$\n",
        "\n",
        "Par cela, on obtient que $\\mathbb{P}(A) = \\frac{1}{\\lambda}$ (on néglige la solution $\\mathbb{P}(A) =1$) et donc la probabilité théorique lorsque $ \\lambda \\geq 1$ est\n",
        "\n",
        "$$p(\\lambda) = 1-\\mathbb{P}(A) =1- \\frac{1}{\\lambda}$$"
      ]
    },
    {
      "cell_type": "markdown",
      "metadata": {
        "id": "ViGXrk8p4Zmq"
      },
      "source": [
        "Maintenant on veut simuler $p(\\lambda)$, la probabilité que les proies survivent toujours. Sachant que si elles s'éteignent, elles disparaissent rapidement, notons $\\tau$ le premier temps où $(S_n:n\\geq 0)$ atteint la valeur $k$ ou $0$. Alors on peut utiliser la valeur de $\\mathbb{P}(S_\\tau = k)$ pour simuler la probabilité que les proies survivent. On a: $$\\mathbb{P}(survivre)\\thickapprox \\mathbb{P}(S_\\tau = k) \\thickapprox \\frac {1}{N} \\sum_{i=1}^{N} \\mathbf{1}_{S^{i}_{\\tau}=k} $$\n",
        "\n",
        "Pour tracer le graph de $p(\\lambda)$ , on prend les valeurs de $\\lambda$ de 1.1 à 10, avec un saut de 0.3. A priori, la fonction $p(\\lambda)$ devrait être croissante par rapport à $\\lambda$, puisque plus le temps d'avoir une nouvelle proie est court, plus la chance de survivre pour les proies est grande."
      ]
    },
    {
      "cell_type": "code",
      "metadata": {
        "colab": {
          "base_uri": "https://localhost:8080/",
          "height": 299
        },
        "id": "aqXPvrH252uj",
        "outputId": "f61748ca-597e-42f4-8b28-4b2b21515342"
      },
      "source": [
        "\n",
        "lam_min = 1.1\n",
        "lam_max = 10\n",
        "\n",
        "\n",
        "# on simule N fois\n",
        "N = 1000\n",
        "#Si la population est plus grand que k apres n naissance, on admet que les proies survivent toujours\n",
        "k = 20   #on peut varier k\n",
        "#erreur = (lam-1)/(lam**(k+1)-1)  # erreur de la probabilite\n",
        "\n",
        "\n",
        "\n",
        "def proba_de_survivre(lam,k):  #proba qu'il y ait au moins k proies a un moment donne\n",
        "   \n",
        "    X = []  #valeur de L_t * 1_(X_tao = k)\n",
        "    p_1 = lam/(1+lam)\n",
        "    #p_1_nouvelle = lam_new/(1+lam_new)\n",
        "    for i in range (N): \n",
        "        \n",
        "        S_0 = np.array([1])\n",
        "        S = [1]    #valeurs de S_i\n",
        "        S_n = 1    #valeur de S_n\n",
        "        while S_n != 0 and S_n != k:\n",
        "            marche = 2 * (np.random.rand(1)<p_1) - 1\n",
        "            S_n = S_n + marche[0]\n",
        "            S.append(S_n)\n",
        "        if S_n == 0:\n",
        "            X.append(0)\n",
        "        else:\n",
        "            X.append(1)\n",
        "    X = np.array(X)\n",
        "    p = np.mean(X)\n",
        "    return p\n",
        "\n",
        "array_lambda = np.arange(lam_min,lam_max,0.3)      # array de lambda à differentes valeurs, avec un saut de 0.01\n",
        "p_lambda = []                       # array de valeur de p(lambda) pour les lambda en array_lambda\n",
        "\n",
        "p_theorique = 1-1/array_lambda\n",
        "for lam in array_lambda:                 # ajout des valeurs de p(lambda)\n",
        "  p_lambda.append(proba_de_survivre(lam,k))\n",
        "\n",
        "#--------- Tracer le graphe de p(λ)——————\n",
        "plt.plot(array_lambda,p_lambda,\"g\",label=\"p(λ) par simulation\")\n",
        "plt.legend(loc=\"best\")\n",
        "plt.plot(array_lambda,p_theorique,\"r\",label=\"probabilité théorique\")\n",
        "plt.legend(loc=\"best\")\n",
        "\n",
        "\n",
        "plt.xlabel(\"$\\lambda$\")\n",
        "plt.ylabel(\"$p(\\lambda)$\")\n",
        "plt.title(\"probabilité de survivre avec differentes valeurs de $\\lambda$\"+ \" avec k =\" + str(k))\n",
        "\n",
        "plt.show()\n",
        "\n",
        "\n"
      ],
      "execution_count": null,
      "outputs": [
        {
          "output_type": "display_data",
          "data": {
            "image/png": "[encoded data removed]",
            "text/plain": [
              "<Figure size 432x288 with 1 Axes>"
            ]
          },
          "metadata": {
            "tags": [],
            "needs_background": "light"
          }
        }
      ]
    },
    {
      "cell_type": "markdown",
      "metadata": {
        "id": "9sZpCY26my6R"
      },
      "source": [
        "D'après le graphe ci-dessus, la fonction de $p(\\lambda)$ est croissante. Plus $\\lambda$ est grand, plus la valeur de $p(\\lambda)$ est proche de la probabilité théorique. \n",
        "\n",
        "Si on varie la valeur de $k$, on peut aussi voir que quand k est plus grand, on a une courbe qui est plus proche de celle de la probabilité théorique. Cela est parce que si la population a une capacité d'atteindre une valeur plus grande, elle a moins de probabilité de disparaîte. Donc l'erreur de simulation est plus petite."
      ]
    },
    {
      "cell_type": "markdown",
      "metadata": {
        "id": "eFbbRqMODUOp"
      },
      "source": [
        "Par la fonction de la probabilité théorique, qui est $p(\\lambda) = 1- \\frac{1}{\\lambda}$, $p(\\lambda)$ est dérivable à droite en 1. \n",
        "\n",
        "\n",
        "Si on veut étudier cela, on veut calculer\n",
        "$$\\lim_{\\Delta\\lambda \\to 0} \\frac {p(\\lambda +\\Delta\\lambda) - p(\\lambda)}{\\Delta\\lambda}$$ quand $\\lambda$ tend vers 1 à droite et voir si cette valeur converge.\n",
        "\n",
        "On va prendre $\\lambda = 0.1,0.01,0.001,0.0001$ et utiliser la méthode de Monte Carlo naive que on a déjà utilisé dans cette question."
      ]
    },
    {
      "cell_type": "code",
      "metadata": {
        "id": "mwPqXF3RI42k",
        "colab": {
          "base_uri": "https://localhost:8080/",
          "height": 299
        },
        "outputId": "7fb15c2d-102b-4a5e-cc5d-1829190b2fc1"
      },
      "source": [
        "array_lambda=[0.1,0.01,0.001,0.0001]\n",
        "pente_lambda = []\n",
        "lam = 1\n",
        "k=20\n",
        "for delta_lambda in array_lambda:\n",
        "  pente = (proba_de_survivre(delta_lambda+lam,k)-proba_de_survivre(lam,k))/delta_lambda\n",
        "  pente_lambda.append(pente)\n",
        "\n",
        "plt.plot(array_lambda,pente_lambda)\n",
        "plt.xlabel(\"$\\delta \\lambda$\")\n",
        "plt.ylabel(\"gradient\")\n",
        "plt.title(\"gradient de $p(\\lambda)$ quand $\\lambda$ tend vers 1 -MC\")\n",
        "plt.show()\n"
      ],
      "execution_count": null,
      "outputs": [
        {
          "output_type": "display_data",
          "data": {
            "image/png": "[encoded data removed]",
            "text/plain": [
              "<Figure size 432x288 with 1 Axes>"
            ]
          },
          "metadata": {
            "tags": [],
            "needs_background": "light"
          }
        }
      ]
    },
    {
      "cell_type": "markdown",
      "metadata": {
        "id": "kn-lP6pg8RcE"
      },
      "source": [
        "On voit que cette méthode ne donne pas de résultat très satisfaisant, puisque quand $\\lambda$ tend vers 1, $p(\\lambda)$ est très petite, et l'évenement que les proies survivent est un évenement rare."
      ]
    },
    {
      "cell_type": "markdown",
      "metadata": {
        "id": "NM7T5l2S-HPe"
      },
      "source": [
        "Pour étudier $p(\\lambda)$, où $\\lambda $ est proche de 1,on va utiliser la méthode de changement de probabilité. Notons $\\tau$ le premier temps où $(S_n:n\\geq 0)$ atteint la valeur $k$ ou $0$. Alors on peut utiliser la valeur de $\\mathbb{P}(S_\\tau = k)$ pour simuler la probabilité que les proies survivent. On a: $$\\mathbb{P}(S_\\tau = k) \\thickapprox \\frac {1}{N} \\sum_{i=1}^{N} \\mathbf{1}_{S^{i}_{\\tau}=k} \\thickapprox \\mathbb{E}[\\mathbf{1}_{S_{\\tau}=k} ]=\\mathbb{E}[L_{\\tau} \\mathbf{1}_{\\widetilde{S}_{\\tau}=k}]$$\n",
        "\n",
        "\n",
        "où $(\\widetilde{S}_n : n \\geq 0)$ est une nouvelle marche aléatoire avec\n",
        "$$\\mathbb{P}[\\widetilde{S}_{n+1} - \\widetilde{S}_n = 1] =  \\frac {\\lambda_{new}}{1+\\lambda_{new}}  $$  $$\\mathbb{P}[\\widetilde{S}_{n+1} - \\widetilde{S}_n = -1] =  \\frac {1}{1+\\lambda_{new}}  $$ et\n",
        "\n",
        " $$L_{\\tau}= \\prod_{i = 1}^{\\tau} \\frac {p(S_{k-1},S_k)}{p(\\widetilde{S}_{k-1},\\widetilde{S}_{k})}$$\n",
        "\n",
        "Enfin, $$p(\\lambda) \\thickapprox \\frac {1}{N} \\sum_{i=1}^{N} L_{\\tau ^{i}}^{i}\\mathbf{1}_{S^{i}_{\\tau^{i}}=k}$$\n",
        "\n",
        " "
      ]
    },
    {
      "cell_type": "code",
      "metadata": {
        "id": "Hk2kZ7f7Drnx",
        "colab": {
          "base_uri": "https://localhost:8080/",
          "height": 299
        },
        "outputId": "f2b10763-3ce2-4b97-b3f2-3c41da71e90a"
      },
      "source": [
        "N = int(1e4)\n",
        "\n",
        "\n",
        "def L_tao(S,p,p_n):  \n",
        "    l = len(S)\n",
        "    L = 1\n",
        "    for i in range(l-1):\n",
        "        if (S[i+1]-S[i] == 1):\n",
        "            L =  L*p/p_n\n",
        "        else:\n",
        "            L = L*(1-p)/(1-p_n)\n",
        "    return L\n",
        "    \n",
        "    \n",
        "    \n",
        "    \n",
        "    \n",
        "    \n",
        "### pour lambda superieur a 1 et proche de 1\n",
        "def proba_petitlambda(lam,lam_new,n):  #proba qu'il y ait au moins n proies a un moment donne\n",
        "   \n",
        "    X = []  #valeur de L_t * 1_(X_tao = k)\n",
        "    p_1_initiale = lam/(1+lam)\n",
        "    p_1_nouvelle = lam_new/(1+lam_new)\n",
        "    for i in range (N): \n",
        "        \n",
        "        S_0 = np.array([1])\n",
        "        S = [1]    #valeurs de S_i\n",
        "        S_n = 1    #valeur de S_n\n",
        "        while S_n != 0 and S_n != n:\n",
        "            marche = 2 * (np.random.rand(1)<p_1_nouvelle) - 1\n",
        "            S_n = S_n + marche[0]\n",
        "            S.append(S_n)\n",
        "        if S_n == 0:\n",
        "            X.append(0)\n",
        "        else:\n",
        "            X.append(L_tao(S,p_1_initiale,p_1_nouvelle))\n",
        "    X = np.array(X)\n",
        "    p = np.mean(X)\n",
        "    return p\n",
        "            \n",
        "            \n",
        "            \n",
        "        \n",
        "                \n",
        " \n",
        "#print(proba_petitlambda(1.01,3,20))\n",
        "array_lambda=[0.1,0.01,0.001,0.0001]\n",
        "pente_lambda = []\n",
        "lam = 1\n",
        "k=20\n",
        "for delta_lambda in array_lambda:\n",
        "  pente = (proba_petitlambda(delta_lambda+lam,lam_new,k)-proba_petitlambda(lam,lam_new,k))/delta_lambda\n",
        "  pente_lambda.append(pente)\n",
        "\n",
        "plt.plot(array_lambda,pente_lambda)\n",
        "plt.xlabel(\"$\\delta \\lambda$\")\n",
        "plt.ylabel(\"gradient\")\n",
        "plt.title(\"gradient de $p(\\lambda)$ quand $\\lambda$ tend vers 1 -EI\")\n",
        "plt.show()    \n",
        "\n"
      ],
      "execution_count": null,
      "outputs": [
        {
          "output_type": "display_data",
          "data": {
            "image/png": "[encoded data removed]",
            "text/plain": [
              "<Figure size 432x288 with 1 Axes>"
            ]
          },
          "metadata": {
            "tags": [],
            "needs_background": "light"
          }
        }
      ]
    },
    {
      "cell_type": "markdown",
      "metadata": {
        "id": "VlqRGINB-B70"
      },
      "source": [
        "### Question 4         \n",
        "Notons $A_n(\\lambda)$ la probabilité qu'il y ait au moins $n$ proies à un moment donné. Lorsque $\\lambda < 1$, estimer $A_n(\\lambda)$ pour quelques valeurs de $n$ et de $\\lambda$ dans le régime des événements rares. On pourra en particulier prendre $(\\lambda, n) = (0.95, 100), (\\lambda, n) = (0.6, 40), (\\lambda, n) = (0.5, 10)$ et $(\\lambda, n) = (0.2, 7)$.\n",
        "\n",
        "#### Simulation de $A_n(\\lambda)$\n",
        "\n",
        "Dans cette question, on va simuler $A_n(\\lambda)$ qui est la probabilité qu'il y ait au moins $n$ proies à un moment donné.\n",
        "\n",
        "Pour cela, on choisit de simuler la population en utilisant la méthode dans la question 3, qui est pour simuler la probabilité que les proies survivent. Comme la question 3, soit $S_n$ le nombre de proies après $n$ naissances. On a déjà montré que ($S_n: n \\geq 0$) est une marche aléatoire, et on a déjà \n",
        "$$\\mathbb{P}[S_{n+1} - S_n = 1] =  \\frac {\\lambda}{1+\\lambda}  $$\n",
        "\n",
        "et, $$\\mathbb{P}[S_{n+1} - S_n = -1] =  \\frac {1}{1+\\lambda}  $$\n",
        "\n",
        " On simule $N = 10^4$ fois."
      ]
    },
    {
      "cell_type": "code",
      "metadata": {
        "colab": {
          "base_uri": "https://localhost:8080/"
        },
        "id": "0zpT8RO8D6Xl",
        "outputId": "aded434e-80fb-4ee9-d1e1-272ddd93380c"
      },
      "source": [
        "N = int(1e4) # On simule N fois pour la valeur de A\n",
        "\n",
        "\n",
        "def proba_n(lam,n):  #proba qu'il y ait au moins n proies a un moment donne\n",
        "   \n",
        "    X = []  #valeur de L_t * 1_(X_tao = k)\n",
        "    p_1 = lam/(1+lam)\n",
        "    #p_1_nouvelle = lam_new/(1+lam_new)\n",
        "    for i in range (N): \n",
        "        \n",
        "        S_0 = np.array([1])\n",
        "        S = [1]    #valeurs de S_i\n",
        "        S_n = 1    #valeur de S_n\n",
        "        while S_n != 0 and S_n != n:\n",
        "            marche = 2 * (np.random.rand(1)<p_1) - 1\n",
        "            S_n = S_n + marche[0]\n",
        "            S.append(S_n)\n",
        "        if S_n == 0:\n",
        "            X.append(0)\n",
        "        else:\n",
        "            X.append(1)\n",
        "    X = np.array(X)\n",
        "    p = np.mean(X)\n",
        "    v = np.std(X)**2\n",
        "    return p,v\n",
        "\n",
        "n_array = [7,10,40,100]\n",
        "lambda_array = [0.2,0.5,0.6,0.95]\n",
        "\n",
        "\n",
        "for i in range(4):\n",
        "  n = n_array[i]\n",
        "  lam = lambda_array[i]\n",
        "  p, v = proba_n(lam,n)\n",
        "  ic = 1.96 * v/np.sqrt(N)\n",
        "  print(\"n = \" + str(n) + \" et λ = \" + str(lam))\n",
        "  print(\"la valeur de A_n(λ) est \" + str(p) +\" et la variance est\" + str(v))\n",
        "  print(\"Interval de confiance:\"+ \"[\" + str(p-ic) + \",\" + str(p+ic)+\"]\"+\"\\n\")\n",
        "\n"
      ],
      "execution_count": null,
      "outputs": [
        {
          "output_type": "stream",
          "text": [
            "n = 7 et λ = 0.2\n",
            "la valeur de A_n(λ) est 0.0 et la variance est0.0\n",
            "Interval de confiance:[0.0,0.0]\n",
            "\n",
            "n = 10 et λ = 0.5\n",
            "la valeur de A_n(λ) est 0.0011 et la variance est0.00109879\n",
            "Interval de confiance:[0.0010784637160000002,0.001121536284]\n",
            "\n",
            "n = 40 et λ = 0.6\n",
            "la valeur de A_n(λ) est 0.0 et la variance est0.0\n",
            "Interval de confiance:[0.0,0.0]\n",
            "\n",
            "n = 100 et λ = 0.95\n",
            "la valeur de A_n(λ) est 0.0006 et la variance est0.00059964\n",
            "Interval de confiance:[0.000588247056,0.0006117529439999999]\n",
            "\n"
          ],
          "name": "stdout"
        }
      ]
    },
    {
      "cell_type": "markdown",
      "metadata": {
        "id": "h6Dp1rs54zpX"
      },
      "source": [
        "On voit que avec $N$ qui est $10^4$, les résultats de la méthode de Monte Carlo naïve ne sont pas satisfaisants. La valeur de $A_n(\\lambda)$ est souvent 0. C'est parce que la capacité de la méthode de Monte Carlo naïve n'est pas suffisante pour simuler les évenements rares, puisque les résultats sont limités par le nombre de simulations et on ne peut pas obtenir une valeur assez précise. Mais on ne pourrais pas augmenter $N$ car la simulation prendrait beaucoup plus de temps.\n",
        "\n",
        "\n",
        "Pour mieux simuler, on va utiliser la méthode d'échantillonage d'importance en prenant la nouvelle chaîne de Markov dont $\\lambda_{new}=1.2$."
      ]
    },
    {
      "cell_type": "code",
      "metadata": {
        "id": "sttAeyj0_Xss",
        "colab": {
          "base_uri": "https://localhost:8080/"
        },
        "outputId": "ee7cc5e7-f134-4206-acea-838bca7e15b1"
      },
      "source": [
        "#question 4    importance sampling\n",
        "import numpy as np\n",
        "import matplotlib.pyplot as plt\n",
        "\n",
        "N = int(1e4)\n",
        "lam_new = 1.2\n",
        "\n",
        "def L_tao(S,p,p_n):  \n",
        "    l = len(S)\n",
        "    L = 1\n",
        "    for i in range(l-1):\n",
        "        if (S[i+1]-S[i] == 1):\n",
        "            L =  L*p/p_n\n",
        "        else:\n",
        "            L = L*(1-p)/(1-p_n)\n",
        "    return L\n",
        "    \n",
        "    \n",
        "    \n",
        "    \n",
        "    \n",
        "    \n",
        "### pour lambda superieur a 1 et proche de 1\n",
        "def proba_petitlambda(lam,lam_new,n):  #proba qu'il y ait au moins n proies a un moment donne\n",
        "   \n",
        "    X = []  #valeur de L_t * 1_(X_tao = k)\n",
        "    p_1_initiale = lam/(1+lam)\n",
        "    p_1_nouvelle = lam_new/(1+lam_new)\n",
        "    for i in range (N): \n",
        "        \n",
        "        S_0 = np.array([1])\n",
        "        S = [1]    #valeurs de S_i\n",
        "        S_n = 1    #valeur de S_n\n",
        "        while S_n != 0 and S_n != n:\n",
        "            marche = 2 * (np.random.rand(1)<p_1_nouvelle) - 1\n",
        "            S_n = S_n + marche[0]\n",
        "            S.append(S_n)\n",
        "        if S_n == 0:\n",
        "            X.append(0)\n",
        "        else:\n",
        "            X.append(L_tao(S,p_1_initiale,p_1_nouvelle))\n",
        "    X = np.array(X)\n",
        "    p = np.mean(X)\n",
        "    variance = np.std(X)**2\n",
        "    return p,variance\n",
        "            \n",
        "n_array = [7,10,40,100]\n",
        "lambda_array = [0.2,0.5,0.6,0.95]\n",
        "\n",
        "\n",
        "for i in range(4):\n",
        "  n = n_array[i]\n",
        "  lam = lambda_array[i]\n",
        "  p, v = proba_petitlambda(lam,2,n)\n",
        "  ic = 1.96 * v/np.sqrt(N)\n",
        "  print(\"n = \" + str(n) + \" et λ = \" + str(lam))\n",
        "  print(\"la proba de A_n(λ) \" + str(p) +\" et la variance est \" + str(v))\n",
        "  print(\"Interval de confiance:\"+ \"[\" + str(p-ic) + \",\" + str(p+ic)+\"]\"+\"\\n\")\n",
        "           \n",
        "            \n",
        "        \n",
        "                      \n"
      ],
      "execution_count": null,
      "outputs": [
        {
          "output_type": "stream",
          "text": [
            "n = 7 et λ = 0.2\n",
            "la proba de A_n(λ) 5.164605435613446e-05 et la variance est 5.9933499829254315e-09\n",
            "Interval de confiance:[5.16459368864748e-05,5.1646171825794126e-05]\n",
            "\n",
            "n = 10 et λ = 0.5\n",
            "la proba de A_n(λ) 0.00098046875 et la variance est 9.536590576171872e-07\n",
            "Interval de confiance:[0.0009804500582824708,0.0009804874417175292]\n",
            "\n",
            "n = 40 et λ = 0.6\n",
            "la proba de A_n(λ) 8.548895010470581e-10 et la variance est 3.7720914698592176e-18\n",
            "Interval de confiance:[8.548895009731251e-10,8.548895011209911e-10]\n",
            "\n",
            "n = 100 et λ = 0.95\n",
            "la proba de A_n(λ) 2.8616462458620647e-07 et la variance est 2.5510571057901855e-10\n",
            "Interval de confiance:[2.861596245142791e-07,2.8616962465813384e-07]\n",
            "\n"
          ],
          "name": "stdout"
        }
      ]
    },
    {
      "cell_type": "markdown",
      "metadata": {
        "id": "916RXs_vk8UR"
      },
      "source": [
        "En utilisant l'échantillonage d'importance, avec un même $N$ qui est $10^4$,  les résultats sont beaucoup plus mieux."
      ]
    },
    {
      "cell_type": "markdown",
      "metadata": {
        "id": "lHAJZ9hRoE0O"
      },
      "source": [
        "### Question 5\n",
        "Que se passe-t-il pour $\\tilde{A_n(\\lambda)}$, défini comme étant la probabilité qu'une proie atteigne le site $n$ ?"
      ]
    },
    {
      "cell_type": "markdown",
      "metadata": {
        "id": "ZIQEuOBLJAez"
      },
      "source": [
        "Dans cette question, au pire des cas, le nombre de prédateurs et de proies augmente alternativement, c'est-à-dire que dans ce cas, le nombre de marche qui vaut 1 est au moins $n-1$ parmi les premiers $2n$ marches, et quand le proie atteint le site n, la population de proie n'a jamais atteint $0$.\n",
        "\n",
        "Donc on a un algorithme qui compte le nombre de marche qui vaut 1 et qui verifie si la population touche 0 avant que la proie atteigne le site n. C'est une méthode de Monte Carlo naïf."
      ]
    },
    {
      "cell_type": "code",
      "metadata": {
        "colab": {
          "base_uri": "https://localhost:8080/"
        },
        "id": "YJHSkXELoKx5",
        "outputId": "b16b0795-2159-40c7-c274-e79c19639a06"
      },
      "source": [
        "#question 5   2n pas, \n",
        "import numpy as np\n",
        "N = int(1e4)\n",
        "def reach_site_n(n,lam):\n",
        "    p = lam/(1+lam)       # proba de l'augmentation de la population de 1\n",
        "    S_0 = 1\n",
        "    X = []   # stocker les valeurs de 1{une proie atteint le site n}\n",
        "    for i in range(N):\n",
        "        tirages = 2 * (np.random.rand(2*n)<p) - 1   # Tire 2n Bernoulli +1/-1   avec proba p\n",
        "        S = 1 + np.cumsum(tirages)\n",
        "        pas_1 = 0     #nombre de \"1\" dans les 2n marche\n",
        "        indice = 0    #la position de la proie plus a droite\n",
        "        while pas_1<n-1 and indice<2*n:   # si le nombre de marche qui vaut 1 est inferieur a n-1 et la proie n'a pas encore atteint le site n\n",
        "            if tirages[indice] == 1:\n",
        "                pas_1 = pas_1 + 1\n",
        "            indice = indice + 1\n",
        "        if(pas_1 == n-1):           \n",
        "            for j in range(indice):\n",
        "                if S[j] == 0:    # si la population a deja atteint 0 avant que la proie atteigne le site n, on dit que la proie n'a pas reussit \n",
        "                    X.append(0)\n",
        "                    break\n",
        "            X.append(1)\n",
        "        else:           # si le nombre de 1 est inferieur a n-1, on dit que la proie n'a pas reussit non plus\n",
        "            X.append(0)\n",
        "    X = np.array(X)\n",
        "    p = np.mean(X)\n",
        "    v = np.std(X)**2\n",
        "    return p,v\n",
        "\n",
        "n_array = [7,10,40,100]\n",
        "lambda_array = [0.2,0.5,0.6,0.95]\n",
        "\n",
        "\n",
        "for i in range(4):\n",
        "  n = n_array[i]\n",
        "  lam = lambda_array[i]\n",
        "  p, v = reach_site_n(n,lam)\n",
        "  ic = 1.96 * v/np.sqrt(N)\n",
        "  print(\"n = \" + str(n) + \" et λ = \" + str(lam))\n",
        "  print(\"la proba qu'une proie atteigne le site n est \" + str(p) +\" et la variance est\" + str(v))\n",
        "  print(\"Interval de confiance:\"+ \"[\" + str(p-ic) + \",\" + str(p+ic)+\"]\"+\"\\n\")\n",
        "\n",
        "\n",
        "\n",
        "\n",
        "       "
      ],
      "execution_count": null,
      "outputs": [
        {
          "output_type": "stream",
          "text": [
            "n = 7 et λ = 0.2\n",
            "la proba qu'une proie atteigne le site n est 0.020992740827938002 et la variance est0.020552045660469035\n",
            "Interval de confiance:[0.02058992073299281,0.021395560922883194]\n",
            "\n",
            "n = 10 et λ = 0.5\n",
            "la proba qu'une proie atteigne le site n est 0.16489406959925126 et la variance est0.13770401541024854\n",
            "Interval de confiance:[0.16219507089721039,0.16759306830129214]\n",
            "\n",
            "n = 40 et λ = 0.6\n",
            "la proba qu'une proie atteigne le site n est 0.026700448255700643 et la variance est0.025987534318645294\n",
            "Interval de confiance:[0.026191092583055194,0.027209803928346092]\n",
            "\n",
            "n = 100 et λ = 0.95\n",
            "la proba qu'une proie atteigne le site n est 0.3182976915451069 et la variance est0.21698427110216292\n",
            "Interval de confiance:[0.3140447998315045,0.3225505832587093]\n",
            "\n"
          ],
          "name": "stdout"
        }
      ]
    },
    {
      "cell_type": "markdown",
      "metadata": {
        "id": "176qbXHEpjb-"
      },
      "source": [
        "### Question 6\n",
        "{Lorsque $\\lambda < 1$, on peut démontrer que $A_n(\\lambda) ~ a(\\lambda) \\cdot b(\\lambda)^n$ lorsque $n\\rightarrow \\infty$ pour certaines valeurs $a(\\lambda), b(\\lambda) > 0$. Tracer numériquement les graphes des fonctions $a$ et $b$. Que se passe-t-il pour $\\lambda = 1$ ?"
      ]
    },
    {
      "cell_type": "markdown",
      "metadata": {
        "id": "tQ5bKW52y0SF"
      },
      "source": [
        "Dans cette question, si on peut démontrer que $A_n(\\lambda) \\sim a(\\lambda)·b(\\lambda)^n$, on aura $$logA_n(\\lambda) \\sim log b(\\lambda)·n + loga(\\lambda)$$\n",
        "Donc si on trace le graphe de $logA_n(\\lambda)$ en fonction de $n$ pour $\\lambda$ fixé, on va avoir une ligne droite. \n",
        "\n",
        "D'abord on trace la graphe de $logA_n(\\lambda)$ en fonction de $n$ pour différentes valeurs de $\\lambda$. On va aussi utiliser l'échantillonage d'importance pour simuler les valeurs de $logA_n(\\lambda)$ en prenant la nouvelle chaîne de Markov dont $\\lambda_{new}=1.2$. On reprend les valeurs de $\\lambda$ et $n$ de la question 4. On simule $N=10^3$ fois pour avoir chaque $A_n(\\lambda)$."
      ]
    },
    {
      "cell_type": "code",
      "metadata": {
        "id": "pwkWaxR0ywfW",
        "colab": {
          "base_uri": "https://localhost:8080/",
          "height": 295
        },
        "outputId": "58172695-b0bf-47e0-eb9b-a8270326cd66"
      },
      "source": [
        "#question 6\n",
        "import matplotlib.pyplot as plt\n",
        "N = int(1e3)\n",
        "\n",
        "lam = 0.2\n",
        "lam_new = 1.2\n",
        "n_array_1 = [7,10,50,100]\n",
        "n_array_1 = np.array(n_array_1)\n",
        "\n",
        "#for n in n_array:\n",
        "    #print(proba_petitlambda(lam,lam_new,n))\n",
        "A_n_lambda_1 = [proba_petitlambda(lam,lam_new,n) for n in n_array_1]\n",
        "A_n_lambda_1 = np.array(A_n_lambda_1)\n",
        "log_A_1 = np.log(A_n_lambda_1)\n",
        "plt.plot(n_array_1,log_A_1,\"b\", label=\"lambda = 0.2\")\n",
        "plt.legend(loc=\"best\")\n",
        "\n",
        "\n",
        "lam = 0.5\n",
        "lam_new = 1.2\n",
        "n_array_2 = [10,50,100,250]\n",
        "n_array_2 = np.array(n_array_2)\n",
        "\n",
        "#for n in n_array:\n",
        "    #print(proba_petitlambda(lam,lam_new,n))\n",
        "A_n_lambda_2 = [proba_petitlambda(lam,lam_new,n) for n in n_array_2]\n",
        "A_n_lambda_2 = np.array(A_n_lambda_2)\n",
        "log_A_2 = np.log(A_n_lambda_2)\n",
        "plt.plot(n_array_2,log_A_2,\"m\", label=\"lambda = 0.5\")\n",
        "plt.legend(loc=\"best\")\n",
        "\n",
        "\n",
        "lam = 0.6\n",
        "lam_new = 1.2\n",
        "n_array_3 = [40,100,200,500]\n",
        "n_array_3 = np.array(n_array_3)\n",
        "\n",
        "#for n in n_array:\n",
        "    #print(proba_petitlambda(lam,lam_new,n))\n",
        "A_n_lambda_3 = [proba_petitlambda(lam,lam_new,n) for n in n_array_3]\n",
        "A_n_lambda_3 = np.array(A_n_lambda_3)\n",
        "log_A_3 = np.log(A_n_lambda_3)\n",
        "plt.plot(n_array_3,log_A_3,\"r\", label=\"lambda = 0.6\")\n",
        "plt.legend(loc=\"best\")\n",
        "\n",
        "\n",
        "lam = 0.95\n",
        "lam_new = 1.2\n",
        "n_array_4 = [100,500,1000,2000]\n",
        "n_array_4 = np.array(n_array_4)\n",
        "\n",
        "#for n in n_array:\n",
        "    #print(proba_petitlambda(lam,lam_new,n))\n",
        "A_n_lambda_4 = [proba_petitlambda(lam,lam_new,n) for n in n_array_4]\n",
        "A_n_lambda_4 = np.array(A_n_lambda_4)\n",
        "log_A_4 = np.log(A_n_lambda_4)\n",
        "plt.plot(n_array_4,log_A_4,\"g\",label = \"lambda = 0.95\")\n",
        "plt.legend(loc=\"best\")\n",
        "\n",
        "plt.xlabel(\"n\")\n",
        "plt.ylabel(\"logA_n(lambda)\")\n",
        "plt.title(\"Graph de logA en fonction de n\")\n",
        "plt.show()"
      ],
      "execution_count": null,
      "outputs": [
        {
          "output_type": "display_data",
          "data": {
            "image/png": "[encoded data removed]",
            "text/plain": [
              "<Figure size 432x288 with 1 Axes>"
            ]
          },
          "metadata": {
            "tags": [],
            "needs_background": "light"
          }
        }
      ]
    },
    {
      "cell_type": "markdown",
      "metadata": {
        "id": "NR_lwjbI5Pda"
      },
      "source": [
        "On a bien des lignes droites, ce qui prouve que $A_n(\\lambda) \\sim a(\\lambda)·b(\\lambda)^n$ quand $n \\to \\infty$. On voit aussi que la pente diminue quand $\\lambda$ augmente."
      ]
    },
    {
      "cell_type": "markdown",
      "metadata": {
        "id": "dzr9qaov5dhn"
      },
      "source": [
        "Pour calculer les valeurs de a et b, on va utiliser la méthode des moindres carrés. La fonction ci-dessous prend une list x et une list y et elle renvoie la pente et l'ordonnée à l'origine de la ligne ajustée. Il faut juste faire $exp()$ car la pente et l'ordonnée à l'origine sont en effet les logarithmes de $b(\\lambda)$ et $a(\\lambda)$."
      ]
    },
    {
      "cell_type": "code",
      "metadata": {
        "id": "1QZRje2zUSUR"
      },
      "source": [
        "#Méthode des moindres carrés\n",
        "#input:un array de x et un array de y\n",
        "#output: la pente et l'ordonnée à l'origine\n",
        "def fit(data_x, data_y):   \n",
        "    m = len(data_y)\n",
        "    x_bar = np.mean(data_x)\n",
        "    sum_yx = 0\n",
        "    sum_x2 = 0\n",
        "    sum_delta = 0\n",
        "    for i in range(m):\n",
        "        x = data_x[i]\n",
        "        y = data_y[i]\n",
        "        sum_yx += y * (x - x_bar)\n",
        "        sum_x2 += x ** 2\n",
        "    \n",
        "    w = sum_yx / (sum_x2 - m * (x_bar ** 2))   #w est la pente\n",
        "\n",
        "    for i in range(m):\n",
        "        x = data_x[i]\n",
        "        y = data_y[i]\n",
        "        sum_delta += (y - w * x)\n",
        "    b = sum_delta / m                 # b est l'ordonnée à l'origine\n",
        "    return w, b"
      ],
      "execution_count": null,
      "outputs": []
    },
    {
      "cell_type": "markdown",
      "metadata": {
        "id": "sm2_uMW15PvK"
      },
      "source": [
        "Ensuite on trace les graphes des fonctions a et b."
      ]
    },
    {
      "cell_type": "code",
      "metadata": {
        "id": "OS7qxfmSURBP",
        "colab": {
          "base_uri": "https://localhost:8080/",
          "height": 231
        },
        "outputId": "6f3b3d66-ccbf-4b3a-f008-fb4640d05ed6"
      },
      "source": [
        "a = []  #array pour stocker les valeur de a\n",
        "b = []  #array pour stocker les valeur de b\n",
        "lam_array = [0.2,0.5,0.6,0.95]   #valeurs de lambda que on va utiliser \n",
        "\n",
        "w_1,b_1 = fit(n_array_1,log_A_1)  #calcule la pente et l'ordonnée à l'origine\n",
        "a.append(np.exp(b_1))\n",
        "b.append(np.exp(w_1))         # les stocker dans les array\n",
        "w_2,b_2 = fit(n_array_2,log_A_2)\n",
        "a.append(np.exp(b_2))\n",
        "b.append(np.exp(w_2))\n",
        "w_3,b_3 = fit(n_array_3,log_A_3)\n",
        "a.append(np.exp(b_3))\n",
        "b.append(np.exp(w_3))\n",
        "w_4,b_4 = fit(n_array_4,log_A_4)\n",
        "a.append(np.exp(b_4))\n",
        "b.append(np.exp(w_4))\n",
        "\n",
        "#figure de a\n",
        "plt.figure(figsize=(14, 6))\n",
        "plt.subplot(1, 2, 1)\n",
        "plt.plot(lam_array,a)\n",
        "plt.scatter(lam_array,a)\n",
        "plt.xlabel(\"λ\")\n",
        "plt.ylabel(\"a(λ)\")\n",
        "plt.title(\"a(λ) en fonction de λ\")\n",
        "\n",
        "#figure de b\n",
        "plt.subplot(1, 2, 2)\n",
        "plt.plot(lam_array,b)\n",
        "plt.scatter(lam_array,b)\n",
        "plt.xlabel(\"λ\")\n",
        "plt.ylabel(\"b(λ)\")\n",
        "plt.title(\"b(λ) en fonction de λ\")\n",
        "\n",
        "plt.show()"
      ],
      "execution_count": null,
      "outputs": [
        {
          "output_type": "error",
          "ename": "NameError",
          "evalue": "ignored",
          "traceback": [
            "\u001b[0;31m---------------------------------------------------------------------------\u001b[0m",
            "\u001b[0;31mNameError\u001b[0m                                 Traceback (most recent call last)",
            "\u001b[0;32m<ipython-input-28-d98e94429351>\u001b[0m in \u001b[0;36m<module>\u001b[0;34m()\u001b[0m\n\u001b[1;32m      3\u001b[0m \u001b[0mlam_array\u001b[0m \u001b[0;34m=\u001b[0m \u001b[0;34m[\u001b[0m\u001b[0;36m0.2\u001b[0m\u001b[0;34m,\u001b[0m\u001b[0;36m0.5\u001b[0m\u001b[0;34m,\u001b[0m\u001b[0;36m0.6\u001b[0m\u001b[0;34m,\u001b[0m\u001b[0;36m0.95\u001b[0m\u001b[0;34m]\u001b[0m   \u001b[0;31m#valeurs de lambda que on va utiliser\u001b[0m\u001b[0;34m\u001b[0m\u001b[0;34m\u001b[0m\u001b[0m\n\u001b[1;32m      4\u001b[0m \u001b[0;34m\u001b[0m\u001b[0m\n\u001b[0;32m----> 5\u001b[0;31m \u001b[0mw_1\u001b[0m\u001b[0;34m,\u001b[0m\u001b[0mb_1\u001b[0m \u001b[0;34m=\u001b[0m \u001b[0mfit\u001b[0m\u001b[0;34m(\u001b[0m\u001b[0mn_array_1\u001b[0m\u001b[0;34m,\u001b[0m\u001b[0mlog_A_1\u001b[0m\u001b[0;34m)\u001b[0m  \u001b[0;31m#calcule la pente et l'ordonnée à l'origine\u001b[0m\u001b[0;34m\u001b[0m\u001b[0;34m\u001b[0m\u001b[0m\n\u001b[0m\u001b[1;32m      6\u001b[0m \u001b[0ma\u001b[0m\u001b[0;34m.\u001b[0m\u001b[0mappend\u001b[0m\u001b[0;34m(\u001b[0m\u001b[0mnp\u001b[0m\u001b[0;34m.\u001b[0m\u001b[0mexp\u001b[0m\u001b[0;34m(\u001b[0m\u001b[0mb_1\u001b[0m\u001b[0;34m)\u001b[0m\u001b[0;34m)\u001b[0m\u001b[0;34m\u001b[0m\u001b[0;34m\u001b[0m\u001b[0m\n\u001b[1;32m      7\u001b[0m \u001b[0mb\u001b[0m\u001b[0;34m.\u001b[0m\u001b[0mappend\u001b[0m\u001b[0;34m(\u001b[0m\u001b[0mnp\u001b[0m\u001b[0;34m.\u001b[0m\u001b[0mexp\u001b[0m\u001b[0;34m(\u001b[0m\u001b[0mw_1\u001b[0m\u001b[0;34m)\u001b[0m\u001b[0;34m)\u001b[0m         \u001b[0;31m# les stocker dans les array\u001b[0m\u001b[0;34m\u001b[0m\u001b[0;34m\u001b[0m\u001b[0m\n",
            "\u001b[0;31mNameError\u001b[0m: name 'fit' is not defined"
          ]
        }
      ]
    },
    {
      "cell_type": "markdown",
      "metadata": {
        "id": "KRk0MDGKWxEz"
      },
      "source": [
        "D'après les graphes ci-dessus, on voit que $a(\\lambda)$ est une fonction décroissante et $b(\\lambda)$ est une fonction croissante.\n",
        "\n",
        "Quand $\\lambda = 1$, la pente de droite disparaît, c'est-à-dire $b = 1$, ce qui peut se voir dans le graphe de $b(\\lambda)$, où la valeur approche 1.\n",
        "On voit aussi que $a$ tend vers 0 dans ce cas. Tout ceci montre que $A_n(1)$ ne dépend pas de $n$ et il vaut $0$.\n",
        "\n",
        " "
      ]
    },
    {
      "cell_type": "markdown",
      "metadata": {
        "id": "GuR7ijkhMuM9"
      },
      "source": [
        "### Question 7\n",
        "Reprendre la deuxième partie en travaillant maintenant sur $\\mathbb{Z}^2$, avec à l'instant $t = 0$ une proie et un prédateur côte à côte, et tous les autres sites vides."
      ]
    },
    {
      "cell_type": "markdown",
      "metadata": {
        "id": "etzH4thV33br"
      },
      "source": [
        "#### Simulation de processus\n",
        "\n",
        "Cette partie est une simulation codée du processus de survie entre la proie et le prédateur. Comme dans la deuxième partie, les naissances des proies et des prédateurs obéissent à des processus de Poisson. Pour la proie, elle ne peut choisir qu'une position dans quatre directions, à savoir le haut, le bas, la gauche et la droite, et doit s'assurer que cette position est vide. De même, le prédateur ne peut choisir que quatre endroits proches et doit s'assurer que cet endroit est une proie. En fait, les propriétés en deux dimensions ne diffèrent pas beaucoup de celles en une dimension, sauf qu'elles sont plus longues à calculer.\n",
        "\n",
        "Pour chaque processus de naissance, tant pour le prédateur que pour la proie, sans considérer du temps, on peut considérer que chaque naissance est distribuée selon la loi de Bernoulli, sauf que la probabilité change à chaque fois. La probabilité ici, comme dans la deuxième partie, pour la probabilité que la naissance suivante soit une proie, est le nombre de positions de toutes les proies potentielles multiplié par le coefficient $\\lambda$ du processus de Poisson plus le nombre de positions de tous les prédateurs potentiels multiplié par le coefficient 1 du processus de Poisson."
      ]
    },
    {
      "cell_type": "markdown",
      "metadata": {
        "id": "6xTSNXOrbqcJ"
      },
      "source": [
        "Pour le temps de processus, on peut utiliser la méthode A de la boîte à outils: Par la propriété d'absence de mémoire de la loi exponentielle, le minimum de variables aléatoires exponentielles indépendantes de paramètres respectifs $\\lambda_1,\\lambda_2,...,\\lambda_n$ est une variable aléatoire exponentielle dont le paramètre est $\\lambda_1+\\lambda_2+...+\\lambda_n$. Ici, pour chaque naissance, l'intervalle de temps est la plus petite de toutes les variables aléatoires exponentielle. Ainsi, par cette propriété, il s'agit d'une distribution exponentielle satisfaisant le paramètre: $\\lambda*Card($proies potentielles)$+1*Card($prédateurs potentielles$)$."
      ]
    },
    {
      "cell_type": "markdown",
      "metadata": {
        "id": "oEn3i4wnbu0Q"
      },
      "source": [
        "Sur la base de ces propriétés, on va définir les positions initiales du prédateur et de la proie à simuler à l'aide de l'algorithme ci-dessus. Après 1000 naissances, on dessine les positions du prédateur et de la proie sur le graphique."
      ]
    },
    {
      "cell_type": "code",
      "metadata": {
        "id": "oG-6HrDAEvYE"
      },
      "source": [
        "#Initialisation\n",
        "# Les positions de proie et prédateur\n",
        "Wolf = [(0,0)]\n",
        "Sheep = [(1,0)]\n",
        "# Les positions possibles de proie et prédateur\n",
        "Wolfprob = []\n",
        "Sheepprob = []\n",
        "# paramètre \n",
        "lam = 1.2\n",
        "N = 1000\n",
        "# le temps\n",
        "T_sum = 0\n",
        "\n",
        "for i in range(N):\n",
        "    # Trouver les positions possibles pour les proies\n",
        "    for sheep in Sheep:\n",
        "        if (sheep[0]+1,sheep[1]) not in Sheep and (sheep[0]+1,sheep[1]) not in Wolf and (sheep[0]+1,sheep[1]) not in Sheepprob:\n",
        "            Sheepprob.append((sheep[0]+1,sheep[1]))\n",
        "        if (sheep[0]-1,sheep[1]) not in Sheep and (sheep[0]-1,sheep[1]) not in Wolf and (sheep[0]-1,sheep[1]) not in Sheepprob:\n",
        "            Sheepprob.append((sheep[0]-1,sheep[1]))\n",
        "        if (sheep[0],sheep[1]+1) not in Sheep and (sheep[0],sheep[1]+1) not in Wolf and (sheep[0],sheep[1]+1) not in Sheepprob:\n",
        "            Sheepprob.append((sheep[0],sheep[1]+1))\n",
        "        if (sheep[0],sheep[1]-1) not in Sheep and (sheep[0],sheep[1]-1) not in Wolf and (sheep[0],sheep[1]-1) not in Sheepprob:\n",
        "            Sheepprob.append((sheep[0],sheep[1]-1))  \n",
        "    # Trouver les positions possibles pour les prédateurs\n",
        "    for wolf in Wolf:\n",
        "        if (wolf[0]+1,wolf[1]) in Sheep and (wolf[0]+1,wolf[1]) not in Wolfprob:\n",
        "            Wolfprob.append((wolf[0]+1,wolf[1]))\n",
        "        if (wolf[0]-1,wolf[1]) in Sheep and (wolf[0]-1,wolf[1]) not in Wolfprob:\n",
        "            Wolfprob.append((wolf[0]-1,wolf[1]))    \n",
        "        if (wolf[0],wolf[1]+1) in Sheep and (wolf[0],wolf[1]+1) not in Wolfprob:\n",
        "            Wolfprob.append((wolf[0],wolf[1]+1))\n",
        "        if (wolf[0],wolf[1]-1) in Sheep and (wolf[0],wolf[1]-1) not in Wolfprob:\n",
        "            Wolfprob.append((wolf[0],wolf[1]-1))\n",
        "    # la probabilité de naissance\n",
        "    p = lam*len(Sheepprob)/(lam*len(Sheepprob)+1*len(Wolfprob))\n",
        "    # Générer un nombre aléatoire entre 0 et 1\n",
        "    m = np.random.random()\n",
        "    \n",
        "    # La naissance de proie \n",
        "    if m<p:\n",
        "      sheepnew = Sheepprob[int(np.random.randint(len(Sheepprob),size=1))]\n",
        "      Sheepprob.remove(sheepnew)\n",
        "      Sheep.append(sheepnew)\n",
        "    # La naissance de prédécesseur\n",
        "    else:\n",
        "        wolfnew = Wolfprob[int(np.random.randint(len(Wolfprob),size=1))]\n",
        "        Wolfprob.remove(wolfnew)\n",
        "        for sheep in Sheep:\n",
        "          if sheep == wolfnew:\n",
        "            Sheep.remove(sheep)\n",
        "        Wolf.append(wolfnew)\n",
        "\n",
        "    # utiliser le minimum de variables aléatoires exponentielle indépendantes pour calculer le temps \n",
        "    t = np.random.exponential(scale=1/(lam*len(Sheepprob)+1*len(Wolfprob)))\n",
        "    T_sum = T_sum +t\n"
      ],
      "execution_count": null,
      "outputs": []
    },
    {
      "cell_type": "code",
      "metadata": {
        "id": "tOR_ZNTT5m05",
        "colab": {
          "base_uri": "https://localhost:8080/",
          "height": 408
        },
        "outputId": "5e240ea7-c16d-4d22-92ed-b31c9531b90c"
      },
      "source": [
        "# Dessiner la photo directement\n",
        "m = 25 #paramètre\n",
        "plt.figure(figsize=(6,6))\n",
        "plt.xlim(-m,m)\n",
        "plt.xlabel('X-axe')\n",
        "plt.ylim(-m,m)\n",
        "plt.ylabel('Y-axe')\n",
        "plt.scatter([w[0] for w in Wolf],[w[1] for w in Wolf],label = 'Wolf')\n",
        "plt.scatter([w[0] for w in Sheep],[w[1] for w in Sheep],label = 'Sheep')\n",
        "plt.title(\"La simulation de processus survivant sur $Z^2$ avec le temp = \"+str(T_sum), fontsize=12)\n",
        "plt.legend()\n",
        "plt.show()"
      ],
      "execution_count": null,
      "outputs": [
        {
          "output_type": "display_data",
          "data": {
            "image/png": "[encoded data removed]",
            "text/plain": [
              "<Figure size 432x432 with 1 Axes>"
            ]
          },
          "metadata": {
            "tags": [],
            "needs_background": "light"
          }
        }
      ]
    },
    {
      "cell_type": "markdown",
      "metadata": {
        "id": "VDb_zN1Gb0gM"
      },
      "source": [
        "Selon les exigences du sujet, nous pouvons également convertir les résultats sous forme de matrice et dessiner une carte thermique en utilisant le formulaire Dataframe, comme dans la Figure 3 du sujet. On voie que les sites blanc sont les prédateurs et les sites rouge sont les proies."
      ]
    },
    {
      "cell_type": "code",
      "metadata": {
        "id": "7lkO9gwA82tD",
        "colab": {
          "base_uri": "https://localhost:8080/",
          "height": 471
        },
        "outputId": "da6697ef-11b4-4cc1-e0b7-db0b05a0fe0f"
      },
      "source": [
        "# Dessiner la photo par heatmap \n",
        "m = 25\n",
        "Blank = []\n",
        "# Trouver le position vide après les naissances\n",
        "for i in range(2*m+1):\n",
        "    for j in range(2*m+1):\n",
        "        if (i-m,j-m) not in Sheep and (i-m,j-m) not in Wolf:\n",
        "            Blank.append((i-m,j-m))\n",
        "# Créer une matrice \n",
        "Matrix = []\n",
        "for j in range(2*m+1):\n",
        "    tmp = []\n",
        "    for i in range(2*m+1):\n",
        "      if (-m+i,m-j) in Sheep:\n",
        "          tmp.append(1)\n",
        "      elif (-m+i,m-j) in Wolf:\n",
        "          tmp.append(2)\n",
        "      else:\n",
        "          tmp.append(0)\n",
        "    Matrix.append(tmp)\n",
        "\n",
        "# Transformer le matrice à la Dataframe\n",
        "df = pd.DataFrame(Matrix)\n",
        "df.columns = [i for i in range(-m,m+1)]\n",
        "df.index = [-i for i in range(-m,m+1)]\n",
        "\n",
        "# Dessiner le heatmap\n",
        "plt.figure(dpi=120)\n",
        "sns.heatmap(data=df)     \n",
        "plt.title(\"La simulation de processus survivant sur $Z^2$ avec le temp = \"+str(T_sum), fontsize=12)     \n",
        "plt.show()"
      ],
      "execution_count": null,
      "outputs": [
        {
          "output_type": "display_data",
          "data": {
            "image/png": "[encoded data removed]",
            "text/plain": [
              "<Figure size 720x480 with 2 Axes>"
            ]
          },
          "metadata": {
            "tags": [],
            "needs_background": "light"
          }
        }
      ]
    },
    {
      "cell_type": "markdown",
      "metadata": {
        "id": "R7KaF1MFsqmi"
      },
      "source": [
        "#### La propriété de distance et de temps\n",
        "Dans l'espace bidimensionnel, la plupart des cas sont similaires à ceux de l'axe unidimensionnel, sauf que la possibilité de position est ajoutée et que la variable \"distance\" est introduite. Par conséquent, on étudie ci-dessous la relation entre la distance et le temps pour la proie la plus éloignée de l'origine dans un groupe de proies."
      ]
    },
    {
      "cell_type": "code",
      "metadata": {
        "id": "ttKWA-UgQ11K"
      },
      "source": [
        "#Initialisation\n",
        "# paramètre \n",
        "lam = 1.2\n",
        "N = 1000\n",
        "# les temps et les distances\n",
        "T = []\n",
        "Maxdistancesheep = []\n",
        "Maxdistancewolf = []\n",
        "\n",
        "for itry in range(10):\n",
        "    # Les positions de proie et prédateur\n",
        "    Wolf = [(0,0)]\n",
        "    Sheep = [(1,0)]\n",
        "    # Les positions possibles de proie et prédateur\n",
        "    Wolfprob = []\n",
        "    Sheepprob = []\n",
        "    # les temps et les distances\n",
        "    T_sum = 0\n",
        "    distancesheep = 0\n",
        "    distancewolf = 0\n",
        "    Ttmp = []\n",
        "    Maxdistancetmpsheep = []\n",
        "    Maxdistancetmpwolf = []\n",
        "    \n",
        "    for i in range(N):\n",
        "        # Trouver les positions possibles pour les proies\n",
        "        for sheep in Sheep:\n",
        "            if (sheep[0]+1,sheep[1]) not in Sheep and (sheep[0]+1,sheep[1]) not in Wolf and (sheep[0]+1,sheep[1]) not in Sheepprob:\n",
        "                Sheepprob.append((sheep[0]+1,sheep[1]))\n",
        "            if (sheep[0]-1,sheep[1]) not in Sheep and (sheep[0]-1,sheep[1]) not in Wolf and (sheep[0]-1,sheep[1]) not in Sheepprob:\n",
        "                Sheepprob.append((sheep[0]-1,sheep[1]))\n",
        "            if (sheep[0],sheep[1]+1) not in Sheep and (sheep[0],sheep[1]+1) not in Wolf and (sheep[0],sheep[1]+1) not in Sheepprob:\n",
        "                Sheepprob.append((sheep[0],sheep[1]+1))\n",
        "            if (sheep[0],sheep[1]-1) not in Sheep and (sheep[0],sheep[1]-1) not in Wolf and (sheep[0],sheep[1]-1) not in Sheepprob:\n",
        "                Sheepprob.append((sheep[0],sheep[1]-1))  \n",
        "        # Trouver les positions possibles pour les prédateurs\n",
        "        for wolf in Wolf:\n",
        "            if (wolf[0]+1,wolf[1]) in Sheep and (wolf[0]+1,wolf[1]) not in Wolfprob:\n",
        "                Wolfprob.append((wolf[0]+1,wolf[1]))\n",
        "            if (wolf[0]-1,wolf[1]) in Sheep and (wolf[0]-1,wolf[1]) not in Wolfprob:\n",
        "                Wolfprob.append((wolf[0]-1,wolf[1]))    \n",
        "            if (wolf[0],wolf[1]+1) in Sheep and (wolf[0],wolf[1]+1) not in Wolfprob:\n",
        "                Wolfprob.append((wolf[0],wolf[1]+1))\n",
        "            if (wolf[0],wolf[1]-1) in Sheep and (wolf[0],wolf[1]-1) not in Wolfprob:\n",
        "                Wolfprob.append((wolf[0],wolf[1]-1))\n",
        "        # la probabilité de naissance\n",
        "        p = lam*len(Sheepprob)/(lam*len(Sheepprob)+1*len(Wolfprob))\n",
        "        # Générer un nombre aléatoire entre 0 et 1\n",
        "        m = np.random.random()\n",
        "\n",
        "        # La naissance de proie \n",
        "        if m<p:\n",
        "            sheepnew = Sheepprob[int(np.random.randint(len(Sheepprob),size=1))]\n",
        "            Sheepprob.remove(sheepnew)\n",
        "            Sheep.append(sheepnew)\n",
        "        # La naissance de prédécesseur\n",
        "        else:\n",
        "            wolfnew = Wolfprob[int(np.random.randint(len(Wolfprob),size=1))]\n",
        "            Wolfprob.remove(wolfnew)\n",
        "            for sheep in Sheep:\n",
        "                if sheep == wolfnew:\n",
        "                    Sheep.remove(sheep)\n",
        "            Wolf.append(wolfnew)\n",
        "        # utiliser le minimum de variables aléatoires exponentielle indépendantes pour calculer le temps \n",
        "        t = np.random.exponential(scale=1/(lam*len(Sheepprob)+1*len(Wolfprob)))\n",
        "        T_sum = T_sum +t\n",
        "        Ttmp.append(T_sum)\n",
        "\n",
        "        # Marquer la plus loin distance de proie\n",
        "        for sheep in Sheep:\n",
        "            dis1 = (sheep[0]**2+sheep[1]**2)**(1/2)\n",
        "            if dis1 > distancesheep :\n",
        "                distancesheep = dis1\n",
        "\n",
        "        Maxdistancetmpsheep.append(distancesheep)\n",
        "\n",
        "        # Marquer la plus loin distance de prédateur\n",
        "        for wolf in Wolf:\n",
        "            dis2 = (wolf[0]**2+wolf[1]**2)**(1/2)\n",
        "            if dis2 > distancewolf :\n",
        "                distancewolf = dis2\n",
        "\n",
        "        Maxdistancetmpwolf.append(distancewolf)\n",
        "\n",
        "    T.append(Ttmp)\n",
        "    Maxdistancesheep.append(Maxdistancetmpsheep)\n",
        "    Maxdistancewolf.append(Maxdistancetmpwolf)"
      ],
      "execution_count": null,
      "outputs": []
    },
    {
      "cell_type": "markdown",
      "metadata": {
        "id": "aLaOqay8y886"
      },
      "source": [
        "On effectue ici dix simulations dans lesquelles on enregistre la variation du temps et de la distance et traçons les graphiques correspondants."
      ]
    },
    {
      "cell_type": "code",
      "metadata": {
        "colab": {
          "base_uri": "https://localhost:8080/",
          "height": 295
        },
        "id": "1eGo2PzYVmf5",
        "outputId": "1c1544f8-c3bf-4099-fe03-9327eed980f4"
      },
      "source": [
        "for i in range(10):\n",
        "    plt.plot(T[i],Maxdistancesheep[i])\n",
        "plt.xlabel('Le temps T')\n",
        "plt.ylabel('La plus loin distance')\n",
        "plt.title(\"Proie: la relation entre le temps et la distance par dix simulations\", fontsize=12)\n",
        "plt.show()"
      ],
      "execution_count": null,
      "outputs": [
        {
          "output_type": "display_data",
          "data": {
            "image/png": "[encoded data removed]",
            "text/plain": [
              "<Figure size 432x288 with 1 Axes>"
            ]
          },
          "metadata": {
            "tags": [],
            "needs_background": "light"
          }
        }
      ]
    },
    {
      "cell_type": "code",
      "metadata": {
        "id": "rxcgLY1FY2WE",
        "colab": {
          "base_uri": "https://localhost:8080/",
          "height": 295
        },
        "outputId": "25f5e5fb-7b22-4b95-b26b-8d40db1bf0b2"
      },
      "source": [
        "for i in range(10):\n",
        "    plt.plot(T[i],Maxdistancewolf[i])\n",
        "plt.xlabel('Le temps T')\n",
        "plt.ylabel('La plus loin distance')\n",
        "plt.title(\": la relation entre le temps et la distance par dix simulations\", fontsize=12)\n",
        "plt.show()"
      ],
      "execution_count": null,
      "outputs": [
        {
          "output_type": "display_data",
          "data": {
            "image/png": "[encoded data removed]",
            "text/plain": [
              "<Figure size 432x288 with 1 Axes>"
            ]
          },
          "metadata": {
            "tags": [],
            "needs_background": "light"
          }
        }
      ]
    },
    {
      "cell_type": "markdown",
      "metadata": {
        "id": "D-d4QuF0cl4Z"
      },
      "source": [
        "En dessinant les images, il est clair que, en général, la distance de la proie la plus éloignée de l'origine dans le groupe de proies est linéairement liée au temps. Dans ces dix simulations également, leurs pentes sont similaires. De même pour les prédateurs, les mêmes propriétés sont présentes."
      ]
    }
  ]
}